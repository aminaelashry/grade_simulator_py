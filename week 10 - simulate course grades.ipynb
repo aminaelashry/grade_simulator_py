{
 "cells": [
  {
   "cell_type": "markdown",
   "id": "1f792e5e-7329-442e-a0fd-d409016ee91c",
   "metadata": {},
   "source": [
    "Suppose the course grade is based on 28 assignments (each scored 0 to 100), 2 quizzes (each scored 0 to 40), three projects (each scored 0 to 100), and attendance in 15 classes (each scored as present or absent). The assignments+quizzes account for 30% of the course grade, the projects are 20. each (60% total), and attendance is 10% of the course grade. Suppose 10 of the (28 assignments+2 quizzes) are included in the final course score. The 10 are randomly selected. Letter grades are defined in the syllabus​.\n",
    "\n",
    "Use your (known) project scores, attendance, quiz scores, and assignment scores. Use your guess for your scores for the remaining home works and project. Simulate selecting randomly 10 assignment scores to get your course score (in percentage points). Repeat the simulation 1000 times (each with a different random selection of assignments). Submit a notebook that performs this simulation and address the following objectives:\n",
    "\n",
    "Use a histogram to plot the distribution of your numeric course score for the 1000 simulated outcomes.\n",
    "What is the maximum course score, minimum course score, and average course score?"
   ]
  },
  {
   "cell_type": "code",
   "execution_count": 1,
   "id": "3a09849d-886e-4f6f-9e46-a8d9da8932e6",
   "metadata": {},
   "outputs": [],
   "source": [
    "import numpy as np\n",
    "import pandas as pd\n",
    "import matplotlib.pyplot as plt"
   ]
  },
  {
   "cell_type": "code",
   "execution_count": 2,
   "id": "6f94a205-f3e3-4584-b037-c127a0e45fcf",
   "metadata": {},
   "outputs": [],
   "source": [
    "#setting seed \n",
    "np.random.seed(0)\n",
    "\n",
    "#constants for grading\n",
    "NUM_ASSIGNMENTS = 28\n",
    "NUM_QUIZZES = 2\n",
    "NUM_PROJECTS = 3\n",
    "NUM_CLASSES = 15\n",
    "NUM_SIMULATIONS = 1000"
   ]
  },
  {
   "cell_type": "code",
   "execution_count": 3,
   "id": "caa578f4-b59c-402a-8b5d-fde436997c63",
   "metadata": {},
   "outputs": [],
   "source": [
    "#data for scores \n",
    "assignment_scores = np.random.randint(60, 100, NUM_ASSIGNMENTS)  #assignment scores between 60 and 100\n",
    "quiz_scores = np.random.randint(25, 40, NUM_QUIZZES)  #quiz scores between 25 and 40\n",
    "project_scores = np.random.randint(70, 100, NUM_PROJECTS)  #project scores between 70 and 100\n",
    "attendance_scores = np.random.choice([1, 0], NUM_CLASSES, p=[0.9, 0.1])  #attendance with 90% presence rate\n",
    "\n",
    "#grade weights \n",
    "assignment_quiz_weight = 0.3\n",
    "project_weight = 0.6\n",
    "attendance_weight = 0.1"
   ]
  },
  {
   "cell_type": "code",
   "execution_count": 6,
   "id": "78241232-9c76-4a2d-a3d1-fd5ee77dc3f5",
   "metadata": {},
   "outputs": [],
   "source": [
    "#list to store the simulation of course scores\n",
    "course_scores = []\n",
    "\n",
    "#calculating averages \n",
    "for _ in range(NUM_SIMULATIONS):\n",
    "    #randomly select 10 out of the 28 assignments and 2 quizzes\n",
    "    selected_assignments = np.random.choice(assignment_scores, 10, replace=False)\n",
    "    selected_quizzes = quiz_scores\n",
    "\n",
    "    #average for assignments and quizzes\n",
    "    assignment_quiz_avg = np.mean(np.concatenate([selected_assignments, selected_quizzes]))\n",
    "\n",
    "    #average project score\n",
    "    project_avg = np.mean(project_scores)\n",
    "\n",
    "    #average attendance score as a percentage\n",
    "    attendance_avg = np.mean(attendance_scores) * 100\n",
    "\n",
    "    #calculate the course grade based on weights \n",
    "    course_grade = (assignment_quiz_avg * assignment_quiz_weight +\n",
    "                    project_avg * project_weight +\n",
    "                    attendance_avg * attendance_weight)\n",
    "    \n",
    "    course_scores.append(course_grade)"
   ]
  },
  {
   "cell_type": "code",
   "execution_count": 8,
   "id": "c40f4e1d-26d3-41e6-8f8a-b1ad75d9eaa8",
   "metadata": {},
   "outputs": [
    {
     "data": {
      "image/png": "[encoded data removed]",
      "text/plain": [
       "<Figure size 640x480 with 1 Axes>"
      ]
     },
     "metadata": {},
     "output_type": "display_data"
    },
    {
     "name": "stdout",
     "output_type": "stream",
     "text": [
      "Min Score:78.85833333333333\n",
      "Max Score:83.58333333333333\n",
      "Average Score:80.95943333333334\n"
     ]
    }
   ],
   "source": [
    "#convert to numpy array for easier calculations\n",
    "course_scores = np.array(course_scores)\n",
    "\n",
    "#calculate min, max, and average of the course scores\n",
    "min_score = course_scores.min()\n",
    "max_score = course_scores.max()\n",
    "avg_score = course_scores.mean()\n",
    "\n",
    "#plot histogram of course scores\n",
    "plt.hist(course_scores, bins=30, edgecolor='black')\n",
    "plt.xlabel(\"Course Score\")\n",
    "plt.ylabel(\"Frequency\")\n",
    "plt.title(\"Distribution of Course Scores for 1000 Simulations\")\n",
    "plt.show()\n",
    "\n",
    "print(\"Min Score:\" + str(min_score))\n",
    "print(\"Max Score:\" + str(max_score))\n",
    "print(\"Average Score:\" + str(avg_score)) "
   ]
  },
  {
   "cell_type": "code",
   "execution_count": null,
   "id": "840428ac-9c3a-44ea-a1f1-923f9f28ee01",
   "metadata": {},
   "outputs": [],
   "source": []
  },
  {
   "cell_type": "code",
   "execution_count": null,
   "id": "8e4d777f-5a36-48c6-8a42-025e35365ed6",
   "metadata": {},
   "outputs": [],
   "source": []
  }
 ],
 "metadata": {
  "kernelspec": {
   "display_name": "Python 3 (ipykernel)",
   "language": "python",
   "name": "python3"
  },
  "language_info": {
   "codemirror_mode": {
    "name": "ipython",
    "version": 3
   },
   "file_extension": ".py",
   "mimetype": "text/x-python",
   "name": "python",
   "nbconvert_exporter": "python",
   "pygments_lexer": "ipython3",
   "version": "3.12.4"
  }
 },
 "nbformat": 4,
 "nbformat_minor": 5
}
